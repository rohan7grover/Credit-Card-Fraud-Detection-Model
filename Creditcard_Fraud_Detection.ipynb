{
  "cells": [
    {
      "cell_type": "code",
      "execution_count": 1,
      "metadata": {
        "id": "uXFi8hukCzbC"
      },
      "outputs": [],
      "source": [
        "import pandas as pd\n",
        "import numpy as np\n",
        "import random\n",
        "from imblearn.over_sampling import SMOTE\n",
        "from sklearn.model_selection import StratifiedShuffleSplit\n",
        "from sklearn.model_selection import KFold, cross_val_score\n",
        "from sklearn.ensemble import RandomForestClassifier\n",
        "from sklearn.linear_model import LogisticRegression\n",
        "from sklearn.naive_bayes import GaussianNB\n",
        "from sklearn.neighbors import KNeighborsClassifier\n",
        "from sklearn.svm import SVC"
      ]
    },
    {
      "cell_type": "code",
      "execution_count": 2,
      "metadata": {
        "colab": {
          "base_uri": "https://localhost:8080/"
        },
        "id": "55-FPn_SI1NT",
        "outputId": "74bb437b-7308-4a7d-904b-a1ad92017cc4"
      },
      "outputs": [
        {
          "output_type": "stream",
          "name": "stdout",
          "text": [
            "<class 'pandas.core.frame.DataFrame'>\n",
            "RangeIndex: 772 entries, 0 to 771\n",
            "Data columns (total 31 columns):\n",
            " #   Column  Non-Null Count  Dtype  \n",
            "---  ------  --------------  -----  \n",
            " 0   Time    772 non-null    int64  \n",
            " 1   V1      772 non-null    float64\n",
            " 2   V2      772 non-null    float64\n",
            " 3   V3      772 non-null    float64\n",
            " 4   V4      772 non-null    float64\n",
            " 5   V5      772 non-null    float64\n",
            " 6   V6      772 non-null    float64\n",
            " 7   V7      772 non-null    float64\n",
            " 8   V8      772 non-null    float64\n",
            " 9   V9      772 non-null    float64\n",
            " 10  V10     772 non-null    float64\n",
            " 11  V11     772 non-null    float64\n",
            " 12  V12     772 non-null    float64\n",
            " 13  V13     772 non-null    float64\n",
            " 14  V14     772 non-null    float64\n",
            " 15  V15     772 non-null    float64\n",
            " 16  V16     772 non-null    float64\n",
            " 17  V17     772 non-null    float64\n",
            " 18  V18     772 non-null    float64\n",
            " 19  V19     772 non-null    float64\n",
            " 20  V20     772 non-null    float64\n",
            " 21  V21     772 non-null    float64\n",
            " 22  V22     772 non-null    float64\n",
            " 23  V23     772 non-null    float64\n",
            " 24  V24     772 non-null    float64\n",
            " 25  V25     772 non-null    float64\n",
            " 26  V26     772 non-null    float64\n",
            " 27  V27     772 non-null    float64\n",
            " 28  V28     772 non-null    float64\n",
            " 29  Amount  772 non-null    float64\n",
            " 30  Class   772 non-null    int64  \n",
            "dtypes: float64(29), int64(2)\n",
            "memory usage: 187.1 KB\n"
          ]
        }
      ],
      "source": [
        "df = pd.read_csv('Creditcard_data.csv')\n",
        "df.info()"
      ]
    },
    {
      "cell_type": "markdown",
      "source": [
        "#Data Pre-processing"
      ],
      "metadata": {
        "id": "s-gRzrgsmYTB"
      }
    },
    {
      "cell_type": "code",
      "execution_count": 3,
      "metadata": {
        "colab": {
          "base_uri": "https://localhost:8080/"
        },
        "id": "epBWUXSpKQsH",
        "outputId": "2fbdc473-3670-47d9-84e4-cb476dcbb4c3"
      },
      "outputs": [
        {
          "output_type": "stream",
          "name": "stdout",
          "text": [
            "class 0: (763, 31)\n",
            "class 1: (9, 31)\n"
          ]
        }
      ],
      "source": [
        "# class count\n",
        "class_count_0, class_count_1 = df['Class'].value_counts()\n",
        "\n",
        "# Separate class\n",
        "class_0 = df[df['Class'] == 0]\n",
        "class_1 = df[df['Class'] == 1]\n",
        "\n",
        "# print the shape of the class\n",
        "print('class 0:', class_0.shape)\n",
        "print('class 1:', class_1.shape)"
      ]
    },
    {
      "cell_type": "code",
      "execution_count": 4,
      "metadata": {
        "id": "89rpdR_aJDg8"
      },
      "outputs": [],
      "source": [
        "# Separate the dataset into features and labels\n",
        "X = df.drop('Class', axis=1)\n",
        "y = df['Class']\n",
        "\n",
        "# Apply SMOTE to balance the classes\n",
        "sm = SMOTE(random_state=42)\n",
        "X_res, y_res = sm.fit_resample(X, y)\n",
        "\n",
        "# Create a new balanced dataset\n",
        "df_balanced = pd.concat([X_res, y_res], axis=1)"
      ]
    },
    {
      "cell_type": "code",
      "execution_count": 5,
      "metadata": {
        "colab": {
          "base_uri": "https://localhost:8080/"
        },
        "id": "8srDhMnEJGRH",
        "outputId": "573722c3-9e09-4957-bea9-a6195cf64a9f"
      },
      "outputs": [
        {
          "output_type": "stream",
          "name": "stdout",
          "text": [
            "<class 'pandas.core.frame.DataFrame'>\n",
            "RangeIndex: 1526 entries, 0 to 1525\n",
            "Data columns (total 31 columns):\n",
            " #   Column  Non-Null Count  Dtype  \n",
            "---  ------  --------------  -----  \n",
            " 0   Time    1526 non-null   int64  \n",
            " 1   V1      1526 non-null   float64\n",
            " 2   V2      1526 non-null   float64\n",
            " 3   V3      1526 non-null   float64\n",
            " 4   V4      1526 non-null   float64\n",
            " 5   V5      1526 non-null   float64\n",
            " 6   V6      1526 non-null   float64\n",
            " 7   V7      1526 non-null   float64\n",
            " 8   V8      1526 non-null   float64\n",
            " 9   V9      1526 non-null   float64\n",
            " 10  V10     1526 non-null   float64\n",
            " 11  V11     1526 non-null   float64\n",
            " 12  V12     1526 non-null   float64\n",
            " 13  V13     1526 non-null   float64\n",
            " 14  V14     1526 non-null   float64\n",
            " 15  V15     1526 non-null   float64\n",
            " 16  V16     1526 non-null   float64\n",
            " 17  V17     1526 non-null   float64\n",
            " 18  V18     1526 non-null   float64\n",
            " 19  V19     1526 non-null   float64\n",
            " 20  V20     1526 non-null   float64\n",
            " 21  V21     1526 non-null   float64\n",
            " 22  V22     1526 non-null   float64\n",
            " 23  V23     1526 non-null   float64\n",
            " 24  V24     1526 non-null   float64\n",
            " 25  V25     1526 non-null   float64\n",
            " 26  V26     1526 non-null   float64\n",
            " 27  V27     1526 non-null   float64\n",
            " 28  V28     1526 non-null   float64\n",
            " 29  Amount  1526 non-null   float64\n",
            " 30  Class   1526 non-null   int64  \n",
            "dtypes: float64(29), int64(2)\n",
            "memory usage: 369.7 KB\n"
          ]
        }
      ],
      "source": [
        "df_balanced.info()"
      ]
    },
    {
      "cell_type": "markdown",
      "source": [
        "#Simple Random Sampling"
      ],
      "metadata": {
        "id": "YAXiRizal-UB"
      }
    },
    {
      "cell_type": "code",
      "execution_count": 6,
      "metadata": {
        "colab": {
          "base_uri": "https://localhost:8080/"
        },
        "id": "ippE43htPQDQ",
        "outputId": "bbd0db43-c8f7-4fb7-9bc4-4347062c7ca3"
      },
      "outputs": [
        {
          "output_type": "stream",
          "name": "stdout",
          "text": [
            "sample size: 384\n"
          ]
        }
      ],
      "source": [
        "# Determine the sample size using the formula\n",
        "Z = 1.96  # 95% confidence level\n",
        "p = len(df_balanced[df_balanced['Class'] == 1]) / len(df_balanced)\n",
        "q = 1 - p\n",
        "E = 0.05  # 5% margin of error\n",
        "n = int((Z**2 * p * q) / E**2)\n",
        "print('sample size:', n)\n",
        "\n",
        "# Simple Random Sampling\n",
        "random_state = 42\n",
        "sample_random = df_balanced.sample(n=n, replace=True, random_state=random_state)"
      ]
    },
    {
      "cell_type": "markdown",
      "source": [
        "#Systematic Sampling"
      ],
      "metadata": {
        "id": "1BIEe0L-mG_6"
      }
    },
    {
      "cell_type": "code",
      "execution_count": 7,
      "metadata": {
        "colab": {
          "base_uri": "https://localhost:8080/"
        },
        "id": "dZW0CyQ7SoRp",
        "outputId": "283f4475-35f5-4cc2-98ed-69031835de64"
      },
      "outputs": [
        {
          "output_type": "stream",
          "name": "stdout",
          "text": [
            "sample size: 300\n",
            "step size: 5\n"
          ]
        }
      ],
      "source": [
        "# Determine the sample size using the formula\n",
        "n = 300\n",
        "N = len(df_balanced)\n",
        "k = int(N / n)\n",
        "print('sample size:', n)\n",
        "print('step size:', k)\n",
        "\n",
        "# Systematic Sampling\n",
        "start_index = 0\n",
        "step = k\n",
        "sample_systematic = df_balanced.iloc[start_index::step]"
      ]
    },
    {
      "cell_type": "markdown",
      "source": [
        "#Stratified Sampling"
      ],
      "metadata": {
        "id": "vv43n9B8mOJB"
      }
    },
    {
      "cell_type": "code",
      "execution_count": 8,
      "metadata": {
        "colab": {
          "base_uri": "https://localhost:8080/"
        },
        "id": "agXLiluyfEiU",
        "outputId": "6f39223e-03b2-4291-9424-451034864297"
      },
      "outputs": [
        {
          "output_type": "stream",
          "name": "stdout",
          "text": [
            "sample size: 384\n"
          ]
        }
      ],
      "source": [
        "# Calculate the sample size using the specified formula\n",
        "Z = 1.96 # 95% confidence level\n",
        "p = 0.5 # proportion of the minority class\n",
        "e = 0.1 # desired margin of error\n",
        "S = 2 # number of strata\n",
        "n = int((Z**2 * p * (1 - p)) / ((e/S)**2))\n",
        "print('sample size:', n)\n",
        "\n",
        "# Create the StratifiedShuffleSplit object\n",
        "stratified_split = StratifiedShuffleSplit(n_splits=1, test_size=n, random_state=42)\n",
        "\n",
        "# Get the indices of the training and test sets\n",
        "X = df_balanced.drop('Class', axis=1)\n",
        "y = df_balanced['Class']\n",
        "for train_index, test_index in stratified_split.split(X, y):\n",
        "    sample_strat = df_balanced.loc[test_index]"
      ]
    },
    {
      "cell_type": "markdown",
      "source": [
        "#Cluster Sampling"
      ],
      "metadata": {
        "id": "bA0d2FZEmmOW"
      }
    },
    {
      "cell_type": "code",
      "execution_count": 9,
      "metadata": {
        "colab": {
          "base_uri": "https://localhost:8080/"
        },
        "id": "M8EZ4Jp4tfkl",
        "outputId": "9b0da72b-5b96-49ab-90f3-3c821816835d"
      },
      "outputs": [
        {
          "output_type": "stream",
          "name": "stdout",
          "text": [
            "sample size: 384\n"
          ]
        }
      ],
      "source": [
        "# set the values of the parameters for the formula\n",
        "Z = 1.96  # z-score for 95% confidence interval\n",
        "p = 0.5   # estimated proportion of population with the target characteristic\n",
        "e = 0.15  # margin of error\n",
        "C = 3    # average cluster size\n",
        "\n",
        "# use the formula to calculate the required sample size\n",
        "n = int((Z**2 * p * (1 - p)) / ((e/C)**2))\n",
        "print('sample size:', n)\n",
        "\n",
        "# randomly select n/C clusters as the sample\n",
        "unique_clusters = df_balanced['Time'].unique()  # assuming the 'Time' column represents the cluster ID\n",
        "sample_clusters = random.sample(list(unique_clusters), int(n/C))\n",
        "\n",
        "# collect data from all units in the selected clusters\n",
        "sample_cluster = pd.DataFrame(columns=df_balanced.columns)\n",
        "for cluster in sample_clusters:\n",
        "    cluster_data = df_balanced[df_balanced['Time'] == cluster]\n",
        "    sample_cluster_data = cluster_data.sample(n=C, random_state=42, replace=True)\n",
        "    sample_cluster = sample_cluster.append(sample_cluster_data)\n",
        "sample_cluster['Class'] = sample_cluster['Class'].astype(int)"
      ]
    },
    {
      "cell_type": "markdown",
      "source": [
        "#Convenience sample"
      ],
      "metadata": {
        "id": "kyKxg7FomtJX"
      }
    },
    {
      "cell_type": "code",
      "execution_count": 10,
      "metadata": {
        "colab": {
          "base_uri": "https://localhost:8080/"
        },
        "id": "YfcF44VK8AeF",
        "outputId": "23193bcb-2553-4aa0-923e-fc231460f922"
      },
      "outputs": [
        {
          "output_type": "stream",
          "name": "stdout",
          "text": [
            "sample size: 300\n"
          ]
        }
      ],
      "source": [
        "# Sort the data by the index column to ensure consistent order\n",
        "df_conv = df_balanced.sort_values(by='Time')\n",
        "\n",
        "# Set the sample size\n",
        "n = 300\n",
        "print('sample size:', n)\n",
        "\n",
        "# Choose a convenience sample by selecting the first n rows from the sorted data\n",
        "sample_conv = df_conv.head(n=n)"
      ]
    },
    {
      "cell_type": "markdown",
      "source": [
        "#Models"
      ],
      "metadata": {
        "id": "t2-q9UEZm6Xt"
      }
    },
    {
      "cell_type": "code",
      "execution_count": 11,
      "metadata": {
        "colab": {
          "base_uri": "https://localhost:8080/"
        },
        "id": "A6KAF40Yj9YR",
        "outputId": "ae79aa13-e36c-4f83-fc44-6dd3d2f30e9f"
      },
      "outputs": [
        {
          "output_type": "stream",
          "name": "stdout",
          "text": [
            "       sample  RandomForestClassifier  LogisticRegression  GaussianNB  \\\n",
            "0     cluster                0.994771            0.898360    0.832980   \n",
            "1      random                0.987013            0.953144    0.846206   \n",
            "2  systematic                0.993548            0.872871    0.830196   \n",
            "3       strat                0.979050            0.940123    0.835748   \n",
            "4        conv                0.986667            0.963333    0.976667   \n",
            "\n",
            "   KNeighborsClassifier       SVC  \n",
            "0              0.820198  0.689781  \n",
            "1              0.799248  0.666746  \n",
            "2              0.699260  0.666631  \n",
            "3              0.770848  0.643301  \n",
            "4              0.836667  0.690000  \n"
          ]
        }
      ],
      "source": [
        "# define the 5 models\n",
        "models = [RandomForestClassifier(random_state=42), LogisticRegression(max_iter=1500, random_state=42), GaussianNB(), KNeighborsClassifier(), SVC(random_state=42)]\n",
        "\n",
        "# define the number of folds for cross-validation\n",
        "k = 5\n",
        "\n",
        "# create an empty DataFrame to store the accuracies\n",
        "accuracy_df = pd.DataFrame(columns=['sample', 'RandomForestClassifier', 'LogisticRegression', 'GaussianNB', 'KNeighborsClassifier', 'SVC'])\n",
        "\n",
        "# loop through each sample and model to perform cross-validation and store the accuracies in the DataFrame\n",
        "for sample_name, sample in [('cluster', sample_cluster), ('random', sample_random), ('systematic', sample_systematic), ('strat', sample_strat), ('conv', sample_conv)]:\n",
        "    X = sample.iloc[:, :-1]  # select all columns except the last one as input features\n",
        "    y = sample.iloc[:, -1]   # select the last column as the binary label\n",
        "    accuracies = {'sample': sample_name}\n",
        "    for model in models:\n",
        "        # fit the model to the data\n",
        "        model.fit(X, y)\n",
        "        \n",
        "        # perform cross-validation and calculate the mean accuracy\n",
        "        cv = KFold(n_splits=k, shuffle=True, random_state=42)\n",
        "        scores = cross_val_score(model, X, y, cv=cv)\n",
        "        accuracy = scores.mean()\n",
        "        \n",
        "        # append the accuracy to the accuracies dictionary\n",
        "        accuracies[model.__class__.__name__] = accuracy\n",
        "    \n",
        "    # append the accuracies for this sample to the accuracy DataFrame\n",
        "    accuracy_df = accuracy_df.append(accuracies, ignore_index=True)\n",
        "\n",
        "# print the accuracy DataFrame\n",
        "print(accuracy_df)"
      ]
    }
  ],
  "metadata": {
    "colab": {
      "provenance": []
    },
    "kernelspec": {
      "display_name": "Python 3 (ipykernel)",
      "language": "python",
      "name": "python3"
    },
    "language_info": {
      "codemirror_mode": {
        "name": "ipython",
        "version": 3
      },
      "file_extension": ".py",
      "mimetype": "text/x-python",
      "name": "python",
      "nbconvert_exporter": "python",
      "pygments_lexer": "ipython3",
      "version": "3.9.13"
    }
  },
  "nbformat": 4,
  "nbformat_minor": 0
}